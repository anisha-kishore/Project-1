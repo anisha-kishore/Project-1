{
 "cells": [
  {
   "cell_type": "code",
   "execution_count": null,
   "id": "b3de4bfe",
   "metadata": {},
   "outputs": [],
   "source": [
    "#Websites I used to help clean up\n",
    "#https://pandas.pydata.org/docs/reference/api/pandas.DataFrame.drop.html\n",
    "#https://www.statology.org/pandas-combine-two-columns/\n",
    "#https://www.geeksforgeeks.org/replace-nan-with-blank-or-empty-string-in-pandas/\n",
    "#https://www.geeksforgeeks.org/how-to-convert-integers-to-floats-in-pandas-dataframe/\n",
    "#https://saturncloud.io/blog/how-to-sum-two-columns-in-a-pandas-dataframe/"
   ]
  },
  {
   "cell_type": "code",
   "execution_count": null,
   "id": "7f730ab3",
   "metadata": {},
   "outputs": [],
   "source": [
    "#import libraries\n",
    "import pandas as pd\n",
    "from pathlib import Path\n",
    "import numpy as np\n",
    "import matplotlib.pyplot as plt\n",
    "import seaborn as sns"
   ]
  },
  {
   "cell_type": "code",
   "execution_count": null,
   "id": "a596323f",
   "metadata": {},
   "outputs": [],
   "source": [
    "#read file\n",
    "injury_file = Path(\"injury_data.csv\")\n",
    "injury_df = pd.read_csv(injury_file)"
   ]
  },
  {
   "cell_type": "code",
   "execution_count": null,
   "id": "570cf7d6",
   "metadata": {},
   "outputs": [],
   "source": [
    "#make a copy \n",
    "ak_injury_df=injury_df.copy()"
   ]
  },
  {
   "cell_type": "code",
   "execution_count": null,
   "id": "739516dc",
   "metadata": {},
   "outputs": [],
   "source": [
    "#Adding relevant columns and removing non-relevant columns\n",
    "ak_injury_df=ak_injury_df.drop(['Height', 'Weight'], axis=1)\n",
    "ak_injury_df['Total Days Missed']= ak_injury_df['Total Playoff Games Missed']+ak_injury_df['Total  Regular Season Games Missed']\n",
    "ak_injury_df['Total Regular Season Games Missed']= ak_injury_df['Total  Regular Season Games Missed']"
   ]
  },
  {
   "cell_type": "code",
   "execution_count": null,
   "id": "64f9b1d2",
   "metadata": {
    "scrolled": false
   },
   "outputs": [],
   "source": [
    "#cleaning up data frame for easy reading/easy analysis\n",
    "ak_injury_df = ak_injury_df[['Playerid', 'Season', 'Part Specific', 'Injury Type', 'Surgery?', 'Time of Year', 'Total Regular Season Games Missed', 'Total Playoff Games Missed', 'Body Part', 'Side', 'Total Days Missed']].fillna('')\n",
    "ak_injury_df=ak_injury_df[['Playerid', 'Season', 'Side', 'Body Part', 'Part Specific', 'Injury Type', 'Surgery?', 'Time of Year', 'Total Regular Season Games Missed', 'Total Playoff Games Missed', 'Total Days Missed']]\n",
    "ak_injury_df['Total Playoff Games Missed'] = ak_injury_df['Total Playoff Games Missed'].astype(float) \n",
    "ak_injury_df['Total Regular Season Games Missed'] = pd.to_numeric(ak_injury_df['Total Regular Season Games Missed'], errors='coerce')\n",
    "ak_injury_df['Total Days Missed']=pd.to_numeric(ak_injury_df['Total Days Missed'], errors= 'coerce')\n",
    "\n",
    "#There is one spasm that was marked blank for if they got surgery- I replaced it with a No (DATA ASSUMPTION)\n",
    "ak_injury_df['Surgery?'] = ak_injury_df['Surgery?'].replace({'No ': 'No',\n",
    "                                                            '':'No',\n",
    "                                                            ' ': 'No'})\n",
    "\n",
    "ak_injury_df.head()"
   ]
  },
  {
   "cell_type": "markdown",
   "id": "dd0d38e7",
   "metadata": {},
   "source": [
    "Injured Body Parts vs. Number of Days Missed"
   ]
  },
  {
   "cell_type": "code",
   "execution_count": null,
   "id": "4c5c157e",
   "metadata": {},
   "outputs": [],
   "source": [
    "#Days Missed Based on Body Part\n",
    "ak_body_part_days_missed_counts=ak_injury_df.groupby('Body Part')['Total Days Missed'].count()\n",
    "ak_body_part_days_missed_max=ak_injury_df.groupby('Body Part')['Total Days Missed'].max()\n",
    "ak_body_part_days_missed_min=ak_injury_df.groupby('Body Part')['Total Days Missed'].min()\n",
    "ak_body_part_days_missed_mean=ak_injury_df.groupby('Body Part')['Total Days Missed'].mean()\n",
    "ak_body_part_days_missed_median=ak_injury_df.groupby('Body Part')['Total Days Missed'].median()\n",
    "\n",
    "ak_body_part_summary=pd.DataFrame({\"Count\": ak_body_part_days_missed_counts,\n",
    "                                   \"Minimum\": ak_body_part_days_missed_min,\n",
    "                                   \"Maximum\": ak_body_part_days_missed_max,\n",
    "                                   \"Mean\": ak_body_part_days_missed_mean,\n",
    "                                   \"Median\": ak_body_part_days_missed_median\n",
    "                                  })\n",
    "\n",
    "ak_body_part_summary"
   ]
  },
  {
   "cell_type": "code",
   "execution_count": null,
   "id": "74baae02",
   "metadata": {},
   "outputs": [],
   "source": [
    "###Injury Part by Number of Games Missed\n",
    "\n",
    "#How to make multiple boxplots\n",
    "fig, ax = plt.subplots(figsize=(20, 5))\n",
    "\n",
    "sns.boxplot(x = 'Body Part', \n",
    "            y = 'Total Days Missed', \n",
    "            data = ak_injury_df)\n",
    "\n",
    "ax.set_xlabel('Body Part')\n",
    "ax.set_ylabel('Count')\n",
    "ax.set_title('Boxplots of Games Missed by Body Part Injured')"
   ]
  },
  {
   "cell_type": "markdown",
   "id": "4cf25917",
   "metadata": {},
   "source": [
    "Injuried Body Part vs. Number of Surgeries"
   ]
  },
  {
   "cell_type": "code",
   "execution_count": null,
   "id": "656689d0",
   "metadata": {},
   "outputs": [],
   "source": [
    "#Days Missed Based on Body Part\n",
    "ak_surgery_days_missed_counts=ak_injury_df.groupby('Body Part')['Surgery?'].value_counts()\n",
    "\n",
    "#DataFrame from ChatGPT\n",
    "ak_injury_df.pivot_table(index = 'Body Part', \n",
    "                   columns = 'Surgery?', \n",
    "                   values = 'Total Days Missed', \n",
    "                   aggfunc = ['count', 'max', 'min', 'median', 'mean']).round(1)"
   ]
  },
  {
   "cell_type": "code",
   "execution_count": null,
   "id": "133c3f18",
   "metadata": {},
   "outputs": [],
   "source": [
    "fig, ax = plt.subplots(figsize=(10, 10))\n",
    "\n",
    "\n",
    "sns.countplot(y = 'Body Part', \n",
    "              hue = 'Surgery?', \n",
    "              data = ak_injury_df)\n",
    "\n",
    "sns.set_palette(\"bright\")\n",
    "ax.set_ylabel('Body Part')\n",
    "ax.set_xlabel('Count')\n",
    "ax.set_title('Number of Surgeries by Body Part')"
   ]
  }
 ],
 "metadata": {
  "kernelspec": {
   "display_name": "Python 3 (ipykernel)",
   "language": "python",
   "name": "python3"
  },
  "language_info": {
   "codemirror_mode": {
    "name": "ipython",
    "version": 3
   },
   "file_extension": ".py",
   "mimetype": "text/x-python",
   "name": "python",
   "nbconvert_exporter": "python",
   "pygments_lexer": "ipython3",
   "version": "3.9.12"
  }
 },
 "nbformat": 4,
 "nbformat_minor": 5
}
